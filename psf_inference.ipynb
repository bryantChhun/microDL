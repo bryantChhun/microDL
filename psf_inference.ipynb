{
 "cells": [
  {
   "cell_type": "code",
   "execution_count": 1,
   "metadata": {},
   "outputs": [],
   "source": [
    "import matplotlib.pyplot as plt\n",
    "%matplotlib inline\n",
    "import numpy as np\n",
    "import os\n",
    "import yaml"
   ]
  },
  {
   "cell_type": "code",
   "execution_count": 2,
   "metadata": {},
   "outputs": [],
   "source": [
    "config_fname = '/home/krishnan/code/micro_dl/config_psf.yml'\n",
    "with open(config_fname, 'r') as f:\n",
    "    config = yaml.load(f)"
   ]
  },
  {
   "cell_type": "code",
   "execution_count": 3,
   "metadata": {},
   "outputs": [
    {
     "name": "stderr",
     "output_type": "stream",
     "text": [
      "/home/krishnan/miniconda3/envs/deepenv/lib/python3.6/site-packages/h5py/__init__.py:36: FutureWarning: Conversion of the second argument of issubdtype from `float` to `np.floating` is deprecated. In future, it will be treated as `np.float64 == np.dtype(float).type`.\n",
      "  from ._conv import register_converters as _register_converters\n",
      "Using TensorFlow backend.\n"
     ]
    }
   ],
   "source": [
    "from micro_dl.train.model_inference import ModelEvaluator\n",
    "model_fname = '/home/krishnan/models/psf_test/HybridUNet_2018-06-29-19-54-22.hdf5'\n",
    "ev_inst = ModelEvaluator(config, model_fname=model_fname, gpu_ids=0)"
   ]
  },
  {
   "cell_type": "code",
   "execution_count": 4,
   "metadata": {},
   "outputs": [],
   "source": [
    "import glob\n",
    "import pickle\n",
    "\n",
    "config['dataset']['data_dir'] = '/data/chinmayb/DeepAO_Data/Astigmatism'\n",
    "config['trainer']['model_dir'] = '/home/krishnan/models/psf_test'\n",
    "input_dir = config['dataset']['data_dir']\n",
    "fnames = glob.glob(os.path.join(input_dir, '*.npy'))\n",
    "split_fname = '/home/krishnan/models/psf_test/split_indices.pkl'\n",
    "with open(split_fname,'rb') as f:\n",
    "    split_indices = pickle.load(f)"
   ]
  },
  {
   "cell_type": "code",
   "execution_count": 5,
   "metadata": {},
   "outputs": [],
   "source": [
    "from micro_dl.input.dataset_psf import DataSetForPSF\n",
    "fnames = np.array(fnames)\n",
    "test_fnames = fnames[split_indices['test']]\n",
    "test_dataset = DataSetForPSF(test_fnames, config['network']['num_focal_planes'], config['trainer']['batch_size'])"
   ]
  },
  {
   "cell_type": "code",
   "execution_count": 6,
   "metadata": {},
   "outputs": [
    {
     "name": "stdout",
     "output_type": "stream",
     "text": [
      "ip shape: (16, 1, 256, 256, 3)\n",
      "(16, 1, 256, 256, 1) (16, 1, 256, 256, 1)\n",
      "ip shape: (16, 1, 256, 256, 3)\n",
      "(16, 1, 256, 256, 1) (16, 1, 256, 256, 1)\n"
     ]
    }
   ],
   "source": [
    "ev_inst.predict_on_tiles(test_dataset, nb_batches=2)"
   ]
  },
  {
   "cell_type": "code",
   "execution_count": null,
   "metadata": {},
   "outputs": [],
   "source": []
  }
 ],
 "metadata": {
  "kernelspec": {
   "display_name": "Python 3",
   "language": "python",
   "name": "python3"
  },
  "language_info": {
   "codemirror_mode": {
    "name": "ipython",
    "version": 3
   },
   "file_extension": ".py",
   "mimetype": "text/x-python",
   "name": "python",
   "nbconvert_exporter": "python",
   "pygments_lexer": "ipython3",
   "version": "3.6.4"
  }
 },
 "nbformat": 4,
 "nbformat_minor": 2
}
